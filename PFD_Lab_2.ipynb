{
  "nbformat": 4,
  "nbformat_minor": 0,
  "metadata": {
    "colab": {
      "provenance": [],
      "authorship_tag": "ABX9TyM9UvYegRCCgdN8aIeEucIP",
      "include_colab_link": true
    },
    "kernelspec": {
      "name": "python3",
      "display_name": "Python 3"
    },
    "language_info": {
      "name": "python"
    }
  },
  "cells": [
    {
      "cell_type": "markdown",
      "metadata": {
        "id": "view-in-github",
        "colab_type": "text"
      },
      "source": [
        "<a href=\"https://colab.research.google.com/github/Viswanatha955/-Assignment-Q7-Basic-Statistic-1/blob/main/PFD_Lab_2.ipynb\" target=\"_parent\"><img src=\"https://colab.research.google.com/assets/colab-badge.svg\" alt=\"Open In Colab\"/></a>"
      ]
    },
    {
      "cell_type": "code",
      "execution_count": 29,
      "metadata": {
        "id": "8B49WuaKF37K"
      },
      "outputs": [],
      "source": [
        "import numpy as np\n",
        "# Define number of elements\n",
        "NumberOfElements = 50\n",
        "# Allocate memory\n",
        "MyArray1 = np.empty(shape=NumberOfElements, dtype=int)"
      ]
    },
    {
      "cell_type": "code",
      "source": [
        "MyArray2 = np.random.randint(-5, 5, 10, dtype=int)"
      ],
      "metadata": {
        "id": "OXvEonyLGOlO"
      },
      "execution_count": 30,
      "outputs": []
    },
    {
      "cell_type": "markdown",
      "source": [
        "1. Initialise one-dimensional array A with 10 random integer numbers from the interval [0..100]\n",
        "and visualise the elements alongside their indices. Have in mind that NumPy arrays start from\n",
        "index zero.\n"
      ],
      "metadata": {
        "id": "GZyGHOwuHF0N"
      }
    },
    {
      "cell_type": "code",
      "source": [
        "import numpy as np\n",
        "A =np.random.randint(0,100,10)\n",
        "Size=int(A.shape[0])\n",
        "for i in range (0,Size):\n",
        "  print(i,A[i])"
      ],
      "metadata": {
        "colab": {
          "base_uri": "https://localhost:8080/"
        },
        "id": "HUoHeUBLHJEk",
        "outputId": "9d1e25ce-de41-4cc1-bd5e-0c174ebf0d9a"
      },
      "execution_count": 31,
      "outputs": [
        {
          "output_type": "stream",
          "name": "stdout",
          "text": [
            "0 11\n",
            "1 45\n",
            "2 36\n",
            "3 58\n",
            "4 7\n",
            "5 26\n",
            "6 36\n",
            "7 5\n",
            "8 81\n",
            "9 43\n"
          ]
        }
      ]
    },
    {
      "cell_type": "markdown",
      "source": [
        "2. Visualise the sum and the average value of the array"
      ],
      "metadata": {
        "id": "DPX9X1LpIRs7"
      }
    },
    {
      "cell_type": "code",
      "source": [
        "#With Numpy funtion\n",
        "print('Sum:',np.sum(A))\n",
        "print('aVERAGE:',np.average(A))\n",
        "\n",
        "#With Numpy funtion\n",
        "S =int(0)\n",
        "for i in range(0,Size):\n",
        "  S=S+A[i]\n",
        "print('Sum:',S)\n",
        "print('Average:',S/Size)"
      ],
      "metadata": {
        "colab": {
          "base_uri": "https://localhost:8080/"
        },
        "id": "HebGoocVH3R0",
        "outputId": "66f14223-adcb-4346-c80f-dea32019c558"
      },
      "execution_count": 32,
      "outputs": [
        {
          "output_type": "stream",
          "name": "stdout",
          "text": [
            "Sum: 348\n",
            "aVERAGE: 34.8\n",
            "Sum: 348\n",
            "Average: 34.8\n"
          ]
        }
      ]
    },
    {
      "cell_type": "markdown",
      "source": [
        "3. Visualise the minimum and maximum values alongside their indices. This can be achieved\n",
        "by using the NumPy functions minimum, maximum, argmax and argmin."
      ],
      "metadata": {
        "id": "TZTLMV8TJ6cZ"
      }
    },
    {
      "cell_type": "code",
      "source": [
        "#with numpy funtion\n",
        "print('Maximum vlue:',A.max())\n",
        "print('Position of maximum value:',np.argmax(A))\n",
        "print('Minimum value:',A.min())\n",
        "print('Position of minimum value:',np.argmin(A))\n",
        "\n",
        "#With out Numpy funtion\n",
        "Max_v=A[0]\n",
        "Min_v=A[0]\n",
        "Max_p=int(0)\n",
        "Min_p=int(0)\n",
        "\n",
        "for i in range(1,Size):\n",
        "  if Max_v<A[i]:\n",
        "    Max_v=A[i]\n",
        "    Max_p=i\n",
        "if Min_v>A[i]:\n",
        "  Min_v=A[i]\n",
        "  Min_p=i\n",
        "print('Maximum value of:',Max_v,'at position:',Max_p)\n",
        "print('Minimum value of:',Min_v,'at position:',Min_p)"
      ],
      "metadata": {
        "colab": {
          "base_uri": "https://localhost:8080/"
        },
        "id": "0VQuQXZVJygv",
        "outputId": "ae427e43-def3-4372-8094-d8395db8bbf3"
      },
      "execution_count": 33,
      "outputs": [
        {
          "output_type": "stream",
          "name": "stdout",
          "text": [
            "Maximum vlue: 81\n",
            "Position of maximum value: 8\n",
            "Minimum value: 5\n",
            "Position of minimum value: 7\n",
            "Maximum value of: 81 at position: 8\n",
            "Minimum value of: 11 at position: 0\n"
          ]
        }
      ]
    },
    {
      "cell_type": "markdown",
      "source": [
        "4. Initialise arrays B and C with values from array A arranged in ascending and descending\n",
        "order, respectively. Visualise arrays B and C."
      ],
      "metadata": {
        "id": "NBJAqI36Pwmk"
      }
    },
    {
      "cell_type": "code",
      "source": [
        "# With NumPy function\n",
        "# Sort in ascending order\n",
        "B = np.sort(A)\n",
        "# Sort in descending order\n",
        "C = np.sort(A)[::-1]\n",
        "print(B)\n",
        "print(C)\n",
        "# Without NumPy function, performs in-place sort\n",
        "# Count the number of iterations (for time complexity purposes)\n",
        "k = int(0)\n",
        "Temp = int(0)\n",
        "# Boolean variable Flag controls the sorting algorithm\n",
        "# Flag with value False means the array is not sorted\n",
        "# Flag with value True means the array is ready\n",
        "Flag = False\n",
        "while Flag == False:\n",
        " Flag = True\n",
        "for i in range(0, Size-1):\n",
        "# Change the sign '>' to '<' for sorting in descending order\n",
        " if A[i] > A[i+1]:\n",
        "  Flag = False\n",
        "  Temp = A[i]\n",
        "A[i] = A[i+1]\n",
        "A[i+1] = Temp\n",
        "k = int(k + 1)\n",
        "\n",
        "\n",
        "\n",
        "\n",
        "print(A)\n",
        "print('Total number of iterations:', k)"
      ],
      "metadata": {
        "colab": {
          "base_uri": "https://localhost:8080/"
        },
        "id": "VTh6DRCEPP-h",
        "outputId": "39bb2937-d5c1-4fb2-a318-b12ee9ca149b"
      },
      "execution_count": 34,
      "outputs": [
        {
          "output_type": "stream",
          "name": "stdout",
          "text": [
            "[ 5  7 11 26 36 36 43 45 58 81]\n",
            "[81 58 45 43 36 36 26 11  7  5]\n",
            "[11 45 36 58  7 26 36  5 43 81]\n",
            "Total number of iterations: 1\n"
          ]
        }
      ]
    },
    {
      "cell_type": "markdown",
      "source": [
        "6. Visualise arrays A, B and C as a table. Display the indices of the arrays in the first column\n",
        "of the table."
      ],
      "metadata": {
        "id": "SMHuOH9axl5I"
      }
    },
    {
      "cell_type": "code",
      "source": [
        "import pandas as pd\n",
        "\n",
        "# Define the arrays\n",
        "A = [1, 2, 3, 4, 5]\n",
        "B = ['a', 'b', 'c', 'd', 'e']\n",
        "C = [10, 20, 30, 40, 50]\n",
        "\n",
        "# Create a DataFrame\n",
        "df = pd.DataFrame({'Index': range(1, len(A)+1), 'A': A, 'B': B, 'C': C})\n",
        "\n",
        "# Display the DataFrame\n",
        "print(df)\n"
      ],
      "metadata": {
        "colab": {
          "base_uri": "https://localhost:8080/"
        },
        "id": "MNsbAogQPz5S",
        "outputId": "0d75bb69-9dcb-41e1-fee5-0d5740f7a545"
      },
      "execution_count": 36,
      "outputs": [
        {
          "output_type": "stream",
          "name": "stdout",
          "text": [
            "   Index  A  B   C\n",
            "0      1  1  a  10\n",
            "1      2  2  b  20\n",
            "2      3  3  c  30\n",
            "3      4  4  d  40\n",
            "4      5  5  e  50\n"
          ]
        }
      ]
    },
    {
      "cell_type": "markdown",
      "source": [
        "7. Initialise array D with 10 integer values, such that the first value is 10 and every consecutive\n",
        "value is equal to the previous value plus 4. Display the array alongside its indices."
      ],
      "metadata": {
        "id": "CHT_CLeCchbe"
      }
    },
    {
      "cell_type": "code",
      "source": [
        "#Without numpay funtion\n",
        "D=np.empty(shape=10,dtype='int')\n",
        "\n",
        "D[0]=int(10)\n",
        "for i in range(1,10):\n",
        "  D[i]=D[i-1]+4\n",
        "for i in range(0,10):\n",
        "  print(i,D[i])\n",
        "  #With Numapy funtion\n",
        "  D=np.arange(10,50,4)\n",
        "for i in range(0,10):\n",
        "  print(i,D[i])"
      ],
      "metadata": {
        "colab": {
          "base_uri": "https://localhost:8080/"
        },
        "id": "0epu0cUVx9WJ",
        "outputId": "8ea8b3b0-0e41-43ab-faf1-7ac6b743a99c"
      },
      "execution_count": 38,
      "outputs": [
        {
          "output_type": "stream",
          "name": "stdout",
          "text": [
            "0 10\n",
            "1 14\n",
            "2 18\n",
            "3 22\n",
            "4 26\n",
            "5 30\n",
            "6 34\n",
            "7 38\n",
            "8 42\n",
            "9 46\n",
            "0 10\n",
            "1 14\n",
            "2 18\n",
            "3 22\n",
            "4 26\n",
            "5 30\n",
            "6 34\n",
            "7 38\n",
            "8 42\n",
            "9 46\n"
          ]
        }
      ]
    }
  ]
}